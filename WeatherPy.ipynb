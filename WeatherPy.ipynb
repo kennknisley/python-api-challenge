{
 "cells": [
  {
   "cell_type": "markdown",
   "metadata": {},
   "source": [
    "# WeatherPy\n",
    "----\n",
    "\n",
    "#### Note\n",
    "* Instructions have been included for each segment. You do not have to follow them exactly, but they are included to help you think through the steps."
   ]
  },
  {
   "cell_type": "code",
   "execution_count": 1,
   "metadata": {
    "scrolled": true
   },
   "outputs": [],
   "source": [
    "# Dependencies and Setup\n",
    "import matplotlib.pyplot as plt\n",
    "import pandas as pd\n",
    "import numpy as np\n",
    "import requests\n",
    "import time\n",
    "from scipy.stats import linregress\n",
    "\n",
    "# Import API key\n",
    "from api_keys import weather_api_key\n",
    "\n",
    "# Incorporated citipy to determine city based on latitude and longitude\n",
    "from citipy import citipy\n",
    "\n",
    "# Output File (CSV)\n",
    "output_data_file = \"cities.csv\"\n",
    "\n",
    "# Range of latitudes and longitudes\n",
    "lat_range = (-90, 90)\n",
    "lng_range = (-180, 180)"
   ]
  },
  {
   "cell_type": "markdown",
   "metadata": {},
   "source": [
    "## Generate Cities List"
   ]
  },
  {
   "cell_type": "code",
   "execution_count": 2,
   "metadata": {},
   "outputs": [
    {
     "data": {
      "text/plain": [
       "607"
      ]
     },
     "execution_count": 2,
     "metadata": {},
     "output_type": "execute_result"
    }
   ],
   "source": [
    "# List for holding lat_lngs and cities\n",
    "lat_lngs = []\n",
    "cities = []\n",
    "\n",
    "# Create a set of random lat and lng combinations\n",
    "lats = np.random.uniform(low=-90.000, high=90.000, size=1500)\n",
    "lngs = np.random.uniform(low=-180.000, high=180.000, size=1500)\n",
    "lat_lngs = zip(lats, lngs)\n",
    "\n",
    "# Identify nearest city for each lat, lng combination\n",
    "for lat_lng in lat_lngs:\n",
    "    city = citipy.nearest_city(lat_lng[0], lat_lng[1]).city_name\n",
    "    \n",
    "    # If the city is unique, then add it to a our cities list\n",
    "    if city not in cities:\n",
    "        cities.append(city)\n",
    "\n",
    "# Print the city count to confirm sufficient count\n",
    "len(cities)"
   ]
  },
  {
   "cell_type": "markdown",
   "metadata": {},
   "source": [
    "### Perform API Calls\n",
    "* Perform a weather check on each city using a series of successive API calls.\n",
    "* Include a print log of each city as it'sbeing processed (with the city number and city name).\n"
   ]
  },
  {
   "cell_type": "code",
   "execution_count": 3,
   "metadata": {},
   "outputs": [],
   "source": [
    "url = \"http://api.openweathermap.org/data/2.5/weather?units=Imperial&APPID=\" + weather_api_key "
   ]
  },
  {
   "cell_type": "code",
   "execution_count": 26,
   "metadata": {},
   "outputs": [
    {
     "name": "stdout",
     "output_type": "stream",
     "text": [
      "albany: is 23.61 degrees.\n",
      "varzelandia: is 80.83 degrees.\n",
      "pisco: is 71.6 degrees.\n",
      "kodiak: is 21.2 degrees.\n",
      "bathsheba: is 80.6 degrees.\n",
      "carnarvon: is 77 degrees.\n",
      "batemans bay: is 59.79 degrees.\n",
      "pangnirtung: is -22 degrees.\n",
      "marawi: is 75.99 degrees.\n",
      "talnakh: is -0.4 degrees.\n",
      "hilo: is 62.35 degrees.\n",
      "abonnema: is 95 degrees.\n",
      "sibolga: is 73.87 degrees.\n",
      "nizhneyansk was not found.\n",
      "parit buntar: is 86 degrees.\n",
      "rikitea: is 79.43 degrees.\n",
      "illoqqortoormiut was not found.\n",
      "qaanaaq: is -23.66 degrees.\n",
      "rodrigues alves: is 84.2 degrees.\n",
      "yellowknife: is -5.01 degrees.\n",
      "luderitz: is 69.8 degrees.\n",
      "hovd: is 17.33 degrees.\n",
      "mahebourg: is 77.47 degrees.\n",
      "aswan: is 80.6 degrees.\n",
      "kapaa: is 66.96 degrees.\n",
      "evensk: is 4.55 degrees.\n",
      "siderno: is 58.51 degrees.\n",
      "lasa: is 37.06 degrees.\n",
      "portland: is 39.43 degrees.\n",
      "hobart: is 53.92 degrees.\n",
      "torbay: is 32.72 degrees.\n",
      "merauke: is 79.57 degrees.\n",
      "taolanaro was not found.\n",
      "bluff: is 48.99 degrees.\n",
      "disraeli: is 13.51 degrees.\n",
      "butaritari: is 83.91 degrees.\n",
      "westport: is 33.03 degrees.\n",
      "black river: is 75.11 degrees.\n",
      "parakou: is 108.46 degrees.\n",
      "ushuaia: is 57.2 degrees.\n",
      "angoche: is 78.06 degrees.\n",
      "la ronge: is 21.2 degrees.\n",
      "zhengjiatun: is 26.13 degrees.\n",
      "aljezur: is 60.48 degrees.\n",
      "dikson: is 10.6 degrees.\n",
      "bairiki: is 84.07 degrees.\n",
      "grindavik: is 32.94 degrees.\n",
      "puerto ayora: is 82.18 degrees.\n",
      "luangwa: is 83.25 degrees.\n",
      "atuona: is 81.23 degrees.\n",
      "chuy: is 84.06 degrees.\n",
      "saldanha: is 93.2 degrees.\n",
      "sakaiminato: is 42.8 degrees.\n",
      "geraldton: is 73.4 degrees.\n",
      "buchanan: is 88 degrees.\n",
      "cape town: is 79.47 degrees.\n",
      "tuktoyaktuk: is -27.4 degrees.\n",
      "longyearbyen: is -7.6 degrees.\n",
      "beringovskiy: is -7.24 degrees.\n",
      "auki: is 84.25 degrees.\n",
      "busselton: is 67.08 degrees.\n",
      "adrar: is 89.74 degrees.\n",
      "luanda: is 82.4 degrees.\n",
      "kruisfontein: is 69.1 degrees.\n",
      "jamestown: is 18.75 degrees.\n",
      "tsihombe was not found.\n",
      "katsuura: is 48.69 degrees.\n",
      "grand river south east was not found.\n",
      "mataura: is 48.99 degrees.\n",
      "sentyabrskiy was not found.\n",
      "kavieng: is 85.33 degrees.\n",
      "severo-kurilsk: is 18.12 degrees.\n",
      "maceio: is 86 degrees.\n",
      "mabaruma: is 81.12 degrees.\n",
      "yarmouth: is 35.53 degrees.\n",
      "kamenskoye was not found.\n",
      "bethel: is 32.43 degrees.\n",
      "benguela: is 83.23 degrees.\n",
      "tasiilaq: is 19.4 degrees.\n",
      "hornepayne: is 4.03 degrees.\n",
      "richards bay: is 73.08 degrees.\n",
      "ambodifototra was not found.\n",
      "welzheim: is 55.69 degrees.\n",
      "chokurdakh: is -1.34 degrees.\n",
      "bredasdorp: is 72.64 degrees.\n",
      "oktyabrskiy: is 31.71 degrees.\n",
      "khatanga: is -2.24 degrees.\n",
      "faanui: is 80.67 degrees.\n",
      "dong hoi: is 69.69 degrees.\n",
      "east london: is 69.8 degrees.\n",
      "kurush: is 50 degrees.\n",
      "caravelas: is 81.1 degrees.\n",
      "tiksi: is -4.16 degrees.\n",
      "barrow: is -5.8 degrees.\n",
      "muzaffarabad: is 42.73 degrees.\n",
      "castro: is 75.85 degrees.\n",
      "maroantsetra: is 73.67 degrees.\n",
      "narsaq: is 6.8 degrees.\n",
      "mar del plata: is 72.54 degrees.\n",
      "fondi: is 56.98 degrees.\n",
      "punta arenas: is 62.73 degrees.\n",
      "goure: is 90 degrees.\n",
      "yaypan: is 55.06 degrees.\n",
      "ancud: is 68 degrees.\n",
      "kotturu: is 80.44 degrees.\n",
      "cherskiy: is 0.28 degrees.\n",
      "oshikango: is 80.6 degrees.\n",
      "lagunas: is 79.41 degrees.\n",
      "nikolskoye: is 29.73 degrees.\n",
      "vaini: is 77 degrees.\n",
      "lolua was not found.\n",
      "himaya: is 73.51 degrees.\n",
      "trat: is 84.99 degrees.\n",
      "hermanus: is 80.22 degrees.\n",
      "socota: is 57.38 degrees.\n",
      "klaksvik: is 37.4 degrees.\n",
      "kariba: is 79.74 degrees.\n",
      "leh: is 7.3 degrees.\n",
      "georgetown: is 86 degrees.\n",
      "veraval: is 68.56 degrees.\n",
      "kansanshi: is 71.69 degrees.\n",
      "at-bashi: is 10.06 degrees.\n",
      "port alfred: is 69.01 degrees.\n",
      "ilhabela: is 74.35 degrees.\n",
      "benavente: is 51.55 degrees.\n",
      "kaitangata: is 54 degrees.\n",
      "tomatlan: is 77.05 degrees.\n",
      "cabo san lucas: is 67.41 degrees.\n",
      "broken hill: is 71.6 degrees.\n",
      "tilichiki: is -9.26 degrees.\n",
      "sorvag was not found.\n",
      "boa vista: is 91.4 degrees.\n",
      "bilibino: is -7.6 degrees.\n",
      "vostok: is 13.86 degrees.\n",
      "saleaula was not found.\n",
      "dolinsk: is 3.2 degrees.\n",
      "impfondo: is 93.4 degrees.\n",
      "vodnyy: is 30.43 degrees.\n",
      "fort nelson: is 1.4 degrees.\n",
      "fortuna: is 40.39 degrees.\n",
      "leningradskiy: is -1.28 degrees.\n",
      "micheweni: is 86.36 degrees.\n",
      "ambon: is 82.76 degrees.\n",
      "nawa: is 75.65 degrees.\n",
      "yashkul: is 43.57 degrees.\n",
      "san roque: is 67.01 degrees.\n",
      "hambantota: is 80.6 degrees.\n",
      "santiago de chuco: is 54.21 degrees.\n",
      "saint-philippe: is 78.85 degrees.\n",
      "arraial do cabo: is 77 degrees.\n",
      "nanortalik: is 16.38 degrees.\n",
      "terra nova: is 86 degrees.\n",
      "victoria: is 70.54 degrees.\n",
      "hithadhoo: is 83.16 degrees.\n",
      "topchanchi: is 75.38 degrees.\n",
      "thompson: is 21.2 degrees.\n",
      "komsomolskiy: is 45.48 degrees.\n",
      "ola: is 2.5 degrees.\n",
      "fairbanks: is -25.38 degrees.\n",
      "san patricio: is 73.4 degrees.\n",
      "kalemie: is 73.33 degrees.\n",
      "yirol was not found.\n",
      "umm lajj: is 71.33 degrees.\n",
      "pacific grove: is 49.55 degrees.\n",
      "selfoss: is 31.98 degrees.\n",
      "nicoya: is 86 degrees.\n",
      "eyl: is 78.06 degrees.\n",
      "channel-port aux basques: is 28.09 degrees.\n",
      "bobo dioulasso: is 98.6 degrees.\n",
      "abalak: is 31.51 degrees.\n",
      "mae hong son: is 66.81 degrees.\n",
      "venice: is 62.28 degrees.\n",
      "mys shmidta was not found.\n",
      "mpika: is 69.85 degrees.\n",
      "provideniya: is -6.52 degrees.\n",
      "solovetskiy was not found.\n",
      "port hardy: is 37.4 degrees.\n",
      "nuuk: is 6.8 degrees.\n",
      "tambul was not found.\n",
      "upernavik: is -22.02 degrees.\n",
      "malwan was not found.\n",
      "mangrol: is 77.27 degrees.\n",
      "saskylakh: is -4.36 degrees.\n",
      "celestun: is 70.27 degrees.\n",
      "teguldet: is 15.17 degrees.\n",
      "kieta: is 81.88 degrees.\n",
      "nyanza: is 73 degrees.\n",
      "ugoofaaru: is 82.29 degrees.\n",
      "isangel: is 80.6 degrees.\n",
      "ambunti: is 75.61 degrees.\n",
      "goundam: is 94.78 degrees.\n",
      "umzimvubu was not found.\n",
      "bundaberg: is 72.28 degrees.\n",
      "lebu: is 82.2 degrees.\n",
      "galiwinku was not found.\n",
      "letterkenny: is 42.35 degrees.\n",
      "katav-ivanovsk: is 29.35 degrees.\n",
      "huambo: is 82.4 degrees.\n",
      "abu zabad: is 91.9 degrees.\n",
      "sur: is 71.13 degrees.\n",
      "togur: is 11.64 degrees.\n",
      "pontal do parana: is 71.73 degrees.\n",
      "lompoc: is 53.35 degrees.\n",
      "norman wells: is -36.4 degrees.\n",
      "northam: is 42.39 degrees.\n",
      "tuatapere: is 48.99 degrees.\n",
      "saint-augustin: is 24.39 degrees.\n",
      "masumbwe: is 76.8 degrees.\n",
      "bambous virieux: is 77.49 degrees.\n",
      "kitgum: is 89.38 degrees.\n",
      "ayagoz: is 19 degrees.\n",
      "urusha: is 2.48 degrees.\n",
      "kaeo: is 62.55 degrees.\n",
      "ambilobe: is 80.08 degrees.\n",
      "ponta do sol: is 67.73 degrees.\n",
      "avarua: is 78.8 degrees.\n",
      "podyuga: is 18.59 degrees.\n",
      "cancun: is 71.28 degrees.\n",
      "meyungs was not found.\n",
      "zhoucheng: is 43.7 degrees.\n",
      "belushya guba was not found.\n",
      "barentsburg was not found.\n",
      "port-gentil: is 84.2 degrees.\n",
      "artyk was not found.\n",
      "vestmannaeyjar: is 37.4 degrees.\n",
      "beaune: is 51.78 degrees.\n",
      "nantucket: is 36 degrees.\n",
      "husavik: is 26.6 degrees.\n",
      "sorong: is 74.8 degrees.\n",
      "vaitupu was not found.\n",
      "kismayo: is 82.11 degrees.\n",
      "nyurba: is -0.38 degrees.\n",
      "upata: is 82.6 degrees.\n",
      "nome: is -8.03 degrees.\n",
      "new norfolk: is 53.51 degrees.\n",
      "iracoubo: is 79.02 degrees.\n",
      "weligama: is 78.13 degrees.\n",
      "guerrero negro: is 63.12 degrees.\n",
      "luganville: is 77 degrees.\n",
      "cabinda: is 80.6 degrees.\n",
      "quatre cocos: is 77.52 degrees.\n",
      "vilyuysk: is -1.21 degrees.\n",
      "hualmay: is 78.48 degrees.\n",
      "mount gambier: is 55.4 degrees.\n",
      "ahuimanu: is 68.94 degrees.\n",
      "hami: is 34.92 degrees.\n",
      "vagur: is 38.59 degrees.\n",
      "bengkulu: is 76.3 degrees.\n",
      "aksu: is 45.5 degrees.\n",
      "yenangyaung: is 75.43 degrees.\n",
      "kavaratti: is 83.68 degrees.\n",
      "constitucion: is 73.18 degrees.\n",
      "hasaki: is 45.55 degrees.\n",
      "araouane: is 92.79 degrees.\n",
      "carmarthen: is 43.9 degrees.\n",
      "ust-tsilma: is 25.48 degrees.\n",
      "bentiu: is 102.47 degrees.\n",
      "bay roberts: is 32.88 degrees.\n",
      "ngukurr was not found.\n",
      "vitim: is 6.6 degrees.\n",
      "namatanai: is 82.74 degrees.\n",
      "motygino: is 13.91 degrees.\n",
      "burnie: is 50 degrees.\n",
      "riwaka: is 56.62 degrees.\n",
      "avera: is 49.96 degrees.\n",
      "marcona was not found.\n",
      "kindu: is 92.05 degrees.\n",
      "neu wulmstorf: is 53.78 degrees.\n",
      "vila franca do campo: is 64.4 degrees.\n",
      "cristalina: is 68.25 degrees.\n",
      "baghdad: is 69.8 degrees.\n",
      "jardim: is 86.92 degrees.\n",
      "lake havasu city: is 55.4 degrees.\n",
      "lorca: is 70.88 degrees.\n",
      "mana: is 84.61 degrees.\n",
      "attawapiskat was not found.\n",
      "todos santos: is 68.25 degrees.\n",
      "tazmalt: is 64.4 degrees.\n",
      "tidore was not found.\n",
      "porto santo: is 68 degrees.\n",
      "chudovo: is 27.46 degrees.\n",
      "ilulissat: is -5.8 degrees.\n",
      "theog: is 42.06 degrees.\n",
      "sitka: is 34.52 degrees.\n",
      "babanusah was not found.\n",
      "kishanganj: is 74.73 degrees.\n",
      "beidao: is 44.02 degrees.\n",
      "shellbrook: is 30.2 degrees.\n",
      "pijijiapan: is 82.42 degrees.\n",
      "lanzhou: is 33.8 degrees.\n",
      "wuwei: is 29.19 degrees.\n",
      "hofn: is 41.54 degrees.\n",
      "zaraza: is 88.5 degrees.\n",
      "north bay: is 5.7 degrees.\n",
      "mahibadhoo: is 82.22 degrees.\n",
      "lagoa: is 62.74 degrees.\n",
      "dubuque: is 22.82 degrees.\n",
      "madang: is 82.99 degrees.\n"
     ]
    },
    {
     "name": "stdout",
     "output_type": "stream",
     "text": [
      "emerald: is 77 degrees.\n",
      "nazarovo: is 15.44 degrees.\n",
      "chabahar: is 73.13 degrees.\n",
      "benicarlo: is 65.43 degrees.\n",
      "beloha: is 76.6 degrees.\n",
      "grootfontein: is 69.19 degrees.\n",
      "solano: is 48.69 degrees.\n",
      "salalah: is 78.8 degrees.\n",
      "pokhara: is 60.15 degrees.\n",
      "oranjemund: is 81.9 degrees.\n",
      "yutsa: is 42.69 degrees.\n",
      "khem karan: is 62.4 degrees.\n",
      "pampa: is 55.81 degrees.\n",
      "tarakan: is 81.09 degrees.\n",
      "mwense: is 80.65 degrees.\n",
      "vila velha: is 80.55 degrees.\n",
      "golden: is 37.76 degrees.\n",
      "mazagao: is 84.2 degrees.\n",
      "sibu: is 78.49 degrees.\n",
      "kagadi: is 74.55 degrees.\n",
      "ribeira grande: is 66.2 degrees.\n",
      "palabuhanratu was not found.\n",
      "namibe: is 82.4 degrees.\n",
      "kabo: is 105.55 degrees.\n",
      "kloulklubed: is 80.6 degrees.\n",
      "port lincoln: is 65.86 degrees.\n",
      "tateyama: is 48.92 degrees.\n",
      "champerico: is 82.4 degrees.\n",
      "teya: is 11.73 degrees.\n",
      "pergamino: is 90.68 degrees.\n",
      "andevoranto was not found.\n",
      "samarinda: is 76.93 degrees.\n",
      "robe: is 56.89 degrees.\n",
      "salinas: is 49.62 degrees.\n",
      "sisimiut: is -9.65 degrees.\n",
      "hastings: is 44.44 degrees.\n",
      "saryshagan was not found.\n",
      "gimli: is 23.65 degrees.\n",
      "oistins: is 80.6 degrees.\n",
      "deputatskiy: is -1.12 degrees.\n",
      "cairns: is 78.31 degrees.\n",
      "souillac: is 77.45 degrees.\n",
      "laguna: is 50.14 degrees.\n",
      "magadan: is 5.5 degrees.\n",
      "novaya bryan: is 3.2 degrees.\n",
      "russell: is 52.52 degrees.\n",
      "pevek: is 6.84 degrees.\n",
      "twentynine palms: is 55.72 degrees.\n",
      "hamilton: is 27.55 degrees.\n",
      "ler: is 102.11 degrees.\n",
      "clyde river: is -27.4 degrees.\n",
      "sawakin: is 75.58 degrees.\n",
      "baboua was not found.\n",
      "barcelos: is 56.43 degrees.\n",
      "mutis: is 81.23 degrees.\n",
      "cessnock: is 66.54 degrees.\n",
      "alofi: is 73.4 degrees.\n",
      "coaldale: is 37.4 degrees.\n",
      "yulara: is 84.2 degrees.\n",
      "nakhon phanom: is 75.99 degrees.\n",
      "mombasa: is 84.79 degrees.\n",
      "roald: is 35.91 degrees.\n",
      "chimbote: is 81.82 degrees.\n",
      "farmington: is 36.55 degrees.\n",
      "sakakah: is 71.6 degrees.\n",
      "sosnovo-ozerskoye: is 4.6 degrees.\n",
      "lishu: is 25.74 degrees.\n",
      "manzanillo: is 72.01 degrees.\n",
      "cidreira: is 71.76 degrees.\n",
      "havoysund: is 26.6 degrees.\n",
      "mayo: is 33.4 degrees.\n",
      "inongo: is 83.08 degrees.\n",
      "kelo: is 106.93 degrees.\n",
      "kabare: is 68.54 degrees.\n",
      "kaifeng: is 44.6 degrees.\n",
      "chapais: is 10.4 degrees.\n",
      "barbar was not found.\n",
      "malpe: is 84.2 degrees.\n",
      "burica was not found.\n",
      "mingoyo: is 84.2 degrees.\n",
      "gonbad-e qabus: is 55.4 degrees.\n",
      "los llanos de aridane: is 66.15 degrees.\n",
      "necochea: is 80.01 degrees.\n",
      "samalaeulu was not found.\n",
      "urfa was not found.\n",
      "jiangkou: is 57.2 degrees.\n",
      "zhezkazgan: is 21.87 degrees.\n",
      "myaundzha: is -12.66 degrees.\n",
      "meulaboh: is 84.7 degrees.\n",
      "awbari: is 75.81 degrees.\n",
      "banjar: is 82.4 degrees.\n",
      "pemangkat: is 77.83 degrees.\n",
      "iqaluit: is -16.29 degrees.\n",
      "manokwari: is 75.09 degrees.\n",
      "vao: is 79.48 degrees.\n",
      "bunia: is 84.47 degrees.\n",
      "umm ruwabah was not found.\n",
      "lashio: is 59.34 degrees.\n",
      "prieska: is 87.33 degrees.\n",
      "ibra: is 79.03 degrees.\n",
      "mancio lima: is 84.2 degrees.\n",
      "ponta delgada: is 64.4 degrees.\n",
      "longyan: is 60.96 degrees.\n",
      "vaitape: is 80.67 degrees.\n",
      "tlapa was not found.\n",
      "camocim: is 82.4 degrees.\n",
      "semnan: is 53.87 degrees.\n",
      "yei: is 86.5 degrees.\n",
      "loubomo: is 74.7 degrees.\n",
      "belmonte: is 86.94 degrees.\n",
      "kharp: is 9.66 degrees.\n",
      "colac: is 56.77 degrees.\n",
      "turayf: is 62.6 degrees.\n",
      "nemuro: is 24.64 degrees.\n",
      "puerto baquerizo moreno: is 82.4 degrees.\n",
      "urumqi: is 30.2 degrees.\n",
      "pontianak: is 80.6 degrees.\n",
      "lavrentiya: is -11.36 degrees.\n",
      "faya: is 67.06 degrees.\n",
      "airai: is 68.43 degrees.\n",
      "vetlanda: is 33.31 degrees.\n",
      "lorengau: is 84.9 degrees.\n",
      "alyangula: is 78.8 degrees.\n",
      "xadani was not found.\n",
      "nabire: is 73.69 degrees.\n",
      "zeya: is 1.33 degrees.\n",
      "mercedes: is 88.48 degrees.\n",
      "port elizabeth: is 69.8 degrees.\n",
      "kanigoro: is 75.9 degrees.\n",
      "le vauclin: is 83.07 degrees.\n",
      "homer: is 14.07 degrees.\n",
      "oloron-sainte-marie: is 50.95 degrees.\n",
      "padang: is 70.05 degrees.\n",
      "qiongshan: is 71.6 degrees.\n",
      "marsabit: is 90.27 degrees.\n",
      "noumea: is 82.4 degrees.\n",
      "gandorhun: is 95.34 degrees.\n",
      "khandyga: is -11.38 degrees.\n",
      "port blair: is 81.39 degrees.\n",
      "san miguel: is 86 degrees.\n",
      "badou: is 99.57 degrees.\n",
      "san antonio: is 59.5 degrees.\n",
      "kaduqli: is 100.26 degrees.\n",
      "kathu: is 80.6 degrees.\n",
      "asyut: is 69.8 degrees.\n",
      "maldonado: is 80.31 degrees.\n",
      "kampot: is 77.88 degrees.\n",
      "kennett: is 39.16 degrees.\n",
      "alekseyevsk: is 16.83 degrees.\n",
      "puerto escondido: is 82.4 degrees.\n",
      "pailon: is 86.92 degrees.\n",
      "los zacatones: is 48.2 degrees.\n",
      "karasburg: is 94.95 degrees.\n",
      "itoman: is 70.59 degrees.\n",
      "constantine: is 71.6 degrees.\n",
      "port keats: is 80.83 degrees.\n",
      "gamba: is 81.52 degrees.\n",
      "adre: is 94.05 degrees.\n",
      "mafinga: is 70.61 degrees.\n",
      "iberia: is 62.17 degrees.\n",
      "cabanas: is 69.39 degrees.\n",
      "trincomalee: is 72.63 degrees.\n",
      "toliary was not found.\n",
      "ashland: is 25.12 degrees.\n",
      "burns lake: is 14.59 degrees.\n",
      "piranhas: is 75.99 degrees.\n",
      "labuhan: is 77.04 degrees.\n",
      "vossevangen: is 37 degrees.\n",
      "banikoara: is 106.99 degrees.\n",
      "kahului: is 66.2 degrees.\n",
      "bowen: is 78.08 degrees.\n",
      "baijiantan: is 28.56 degrees.\n",
      "sao joao evangelista: is 72.07 degrees.\n",
      "thunder bay: is 17.83 degrees.\n",
      "fort saint john was not found.\n",
      "sofiysk was not found.\n",
      "tabas: is 64.4 degrees.\n",
      "goderich: is 22.33 degrees.\n",
      "camapua: is 81.95 degrees.\n",
      "raga: is 100.27 degrees.\n",
      "marathon: is 14.23 degrees.\n",
      "macapa: is 84.2 degrees.\n",
      "asau: is 43.5 degrees.\n",
      "ndele: is 104.07 degrees.\n",
      "glencoe: is 62.92 degrees.\n",
      "rungata was not found.\n",
      "sao filipe: is 76.77 degrees.\n",
      "puksoozero: is 17.98 degrees.\n",
      "port hedland: is 86 degrees.\n",
      "antofagasta: is 71.82 degrees.\n",
      "pullman: is 35.08 degrees.\n",
      "miranorte was not found.\n",
      "yarkovo: is 30.54 degrees.\n",
      "flinders: is 65.5 degrees.\n",
      "mozarlandia: is 83.28 degrees.\n",
      "cravo norte: is 92.07 degrees.\n",
      "parrita: is 76.1 degrees.\n",
      "nzerekore: is 102.94 degrees.\n",
      "capreol: is 7.32 degrees.\n",
      "vallenar: is 73.44 degrees.\n",
      "moron: is 87.78 degrees.\n",
      "mangan: is 44.92 degrees.\n",
      "hay river: is -4 degrees.\n",
      "tlahualilo was not found.\n",
      "bukama: is 82.06 degrees.\n",
      "castrovillari: is 55.99 degrees.\n",
      "qui nhon: is 69.44 degrees.\n",
      "vestmanna: is 37.4 degrees.\n",
      "bay city: is 26.35 degrees.\n",
      "poli: is 81.18 degrees.\n",
      "cacheu: is 101.8 degrees.\n",
      "kerouane: is 101.73 degrees.\n",
      "anar darreh was not found.\n",
      "gizo: is 77.94 degrees.\n",
      "haibowan was not found.\n",
      "malinyi: is 84.63 degrees.\n",
      "gat: is 59.07 degrees.\n",
      "nha trang: is 78.8 degrees.\n",
      "bud: is 26.13 degrees.\n",
      "oildale: is 52.63 degrees.\n",
      "dingle: is 74.26 degrees.\n",
      "vigrestad: is 40.64 degrees.\n",
      "karachi: is 77 degrees.\n",
      "mokhsogollokh: is -11.11 degrees.\n",
      "harper: is 84.07 degrees.\n",
      "tadine: is 78.96 degrees.\n",
      "louisbourg was not found.\n",
      "cascais: is 60.53 degrees.\n",
      "saint-francois: is 54.46 degrees.\n",
      "cuamba: is 75.2 degrees.\n",
      "ixtapa: is 73.63 degrees.\n",
      "tura: is 71.67 degrees.\n",
      "ulyanovsk: is 33.8 degrees.\n",
      "phuthaditjhaba: is 60.49 degrees.\n",
      "sao joao da barra: is 78.8 degrees.\n",
      "higuey was not found.\n",
      "grand gaube: is 77.58 degrees.\n",
      "skjervoy: is 29.61 degrees.\n",
      "deer lake: is 24.51 degrees.\n",
      "dzhusaly was not found.\n",
      "limbang: is 79.77 degrees.\n",
      "svetlogorsk: is 35.4 degrees.\n",
      "sao jose da coroa grande: is 82.42 degrees.\n",
      "orlik: is 3.76 degrees.\n",
      "hohhot: is 30.2 degrees.\n",
      "beruwala: is 80.15 degrees.\n",
      "marsh harbour: is 65.46 degrees.\n",
      "muriwai beach: is 62.1 degrees.\n",
      "khasan: is 27.28 degrees.\n",
      "jalu: is 71.42 degrees.\n",
      "hervey bay: is 73.02 degrees.\n",
      "imbituba: is 78.8 degrees.\n",
      "canico: is 67.71 degrees.\n",
      "aviles: is 57.85 degrees.\n",
      "camacha: is 68 degrees.\n",
      "barra patuca: is 78.75 degrees.\n",
      "amapa: is 88.29 degrees.\n",
      "karaul was not found.\n",
      "porecatu: is 79.72 degrees.\n",
      "poya: is 81.52 degrees.\n",
      "wahran was not found.\n",
      "moratuwa: is 84.2 degrees.\n",
      "worksop: is 41.36 degrees.\n",
      "rolim de moura was not found.\n",
      "sistranda: is 30.11 degrees.\n",
      "amderma was not found.\n",
      "ahar: is 40.24 degrees.\n",
      "estelle: is 61.75 degrees.\n",
      "lahij: is 81.14 degrees.\n",
      "te anau: is 49.39 degrees.\n",
      "longview: is 59.56 degrees.\n",
      "qaqortoq: is 6.8 degrees.\n",
      "puerto rondon: is 91.04 degrees.\n",
      "batticaloa: is 73.49 degrees.\n",
      "alugan: is 78.42 degrees.\n",
      "comodoro rivadavia: is 84.2 degrees.\n",
      "mzimba: is 73.18 degrees.\n",
      "erzincan: is 37.4 degrees.\n",
      "porto novo: is 89.6 degrees.\n",
      "san quintin: is 60.1 degrees.\n",
      "karpathos: is 55.4 degrees.\n",
      "soyo: is 80.6 degrees.\n",
      "pachperwa: is 68.25 degrees.\n",
      "freeport: is 33.26 degrees.\n",
      "bereda: is 49.64 degrees.\n",
      "saint george: is 39.9 degrees.\n",
      "kuche was not found.\n",
      "plettenberg bay: is 68.09 degrees.\n",
      "tubruq was not found.\n",
      "arraias: is 78.03 degrees.\n",
      "muscat: is 75.2 degrees.\n",
      "yar-sale: is 13.24 degrees.\n",
      "iskateley: is 22.87 degrees.\n",
      "krasnyy chikoy: is 8.49 degrees.\n",
      "el tigre: is 85.95 degrees.\n",
      "bambanglipuro: is 77.94 degrees.\n",
      "codrington: is 60.35 degrees.\n",
      "bagdarin: is 1.4 degrees.\n",
      "college: is -26.55 degrees.\n",
      "kondinskoye: is 31.5 degrees.\n"
     ]
    },
    {
     "name": "stdout",
     "output_type": "stream",
     "text": [
      "palmares do sul: is 83.39 degrees.\n",
      "jimo: is 43.93 degrees.\n",
      "arlit: is 94.42 degrees.\n",
      "gurskoye was not found.\n",
      "verkhnyaya inta: is 22.41 degrees.\n",
      "naze: is 66.2 degrees.\n",
      "teguise: is 73.4 degrees.\n",
      "masterton: is 51.1 degrees.\n",
      "tanout: is 93.61 degrees.\n"
     ]
    }
   ],
   "source": [
    "city_data = []\n",
    "\n",
    "\n",
    "for city in cities:\n",
    "    city_url = url + \"&q=\" + city\n",
    "    try:\n",
    "        weather = requests.get(city_url).json()\n",
    "        temp = weather[\"main\"][\"temp\"]\n",
    "        cloudiness = weather[\"clouds\"][\"all\"]\n",
    "        country = weather['sys']['country']\n",
    "        date = weather[\"dt\"]\n",
    "        humidity = weather[\"main\"][\"humidity\"]\n",
    "        lat = weather[\"coord\"][\"lat\"]\n",
    "        lng = weather[\"coord\"][\"lon\"]\n",
    "        max_temp = weather[\"main\"][\"temp_max\"]\n",
    "        wind_speed = weather[\"wind\"][\"speed\"]\n",
    "        city_data.append({\"city\":city, \"Cloudiness\":cloudiness, \"Country\":country, \"Date\": date, \"Humidity\": humidity, \"Latitude\": lat, \"Longitude\": lng, \"Max Temp\": max_temp, \"Wind Speed\": wind_speed})\n",
    "        print (f\"{city}: is {temp} degrees.\")\n",
    "    except:\n",
    "        print (f'{city} was not found.')"
   ]
  },
  {
   "cell_type": "markdown",
   "metadata": {},
   "source": [
    "### Convert Raw Data to DataFrame\n",
    "* Export the city data into a .csv.\n",
    "* Display the DataFrame"
   ]
  },
  {
   "cell_type": "code",
   "execution_count": 5,
   "metadata": {
    "scrolled": true
   },
   "outputs": [
    {
     "data": {
      "text/html": [
       "<div>\n",
       "<style scoped>\n",
       "    .dataframe tbody tr th:only-of-type {\n",
       "        vertical-align: middle;\n",
       "    }\n",
       "\n",
       "    .dataframe tbody tr th {\n",
       "        vertical-align: top;\n",
       "    }\n",
       "\n",
       "    .dataframe thead th {\n",
       "        text-align: right;\n",
       "    }\n",
       "</style>\n",
       "<table border=\"1\" class=\"dataframe\">\n",
       "  <thead>\n",
       "    <tr style=\"text-align: right;\">\n",
       "      <th></th>\n",
       "      <th>city</th>\n",
       "      <th>Cloudiness</th>\n",
       "      <th>Country</th>\n",
       "      <th>Date</th>\n",
       "      <th>Humidity</th>\n",
       "      <th>Latitude</th>\n",
       "      <th>Longitude</th>\n",
       "      <th>Max Temp</th>\n",
       "      <th>Wind Speed</th>\n",
       "    </tr>\n",
       "  </thead>\n",
       "  <tbody>\n",
       "    <tr>\n",
       "      <th>0</th>\n",
       "      <td>albany</td>\n",
       "      <td>75</td>\n",
       "      <td>US</td>\n",
       "      <td>1582990460</td>\n",
       "      <td>53</td>\n",
       "      <td>42.60</td>\n",
       "      <td>-73.97</td>\n",
       "      <td>28.99</td>\n",
       "      <td>13.87</td>\n",
       "    </tr>\n",
       "    <tr>\n",
       "      <th>1</th>\n",
       "      <td>varzelandia</td>\n",
       "      <td>97</td>\n",
       "      <td>BR</td>\n",
       "      <td>1582990479</td>\n",
       "      <td>70</td>\n",
       "      <td>-15.70</td>\n",
       "      <td>-44.03</td>\n",
       "      <td>80.83</td>\n",
       "      <td>6.98</td>\n",
       "    </tr>\n",
       "    <tr>\n",
       "      <th>2</th>\n",
       "      <td>pisco</td>\n",
       "      <td>75</td>\n",
       "      <td>PE</td>\n",
       "      <td>1582990534</td>\n",
       "      <td>30</td>\n",
       "      <td>-13.70</td>\n",
       "      <td>-76.22</td>\n",
       "      <td>71.60</td>\n",
       "      <td>4.70</td>\n",
       "    </tr>\n",
       "    <tr>\n",
       "      <th>3</th>\n",
       "      <td>kodiak</td>\n",
       "      <td>90</td>\n",
       "      <td>US</td>\n",
       "      <td>1582990534</td>\n",
       "      <td>79</td>\n",
       "      <td>57.79</td>\n",
       "      <td>-152.41</td>\n",
       "      <td>21.20</td>\n",
       "      <td>5.82</td>\n",
       "    </tr>\n",
       "    <tr>\n",
       "      <th>4</th>\n",
       "      <td>bathsheba</td>\n",
       "      <td>75</td>\n",
       "      <td>BB</td>\n",
       "      <td>1582990534</td>\n",
       "      <td>61</td>\n",
       "      <td>13.22</td>\n",
       "      <td>-59.52</td>\n",
       "      <td>80.60</td>\n",
       "      <td>14.99</td>\n",
       "    </tr>\n",
       "    <tr>\n",
       "      <th>...</th>\n",
       "      <td>...</td>\n",
       "      <td>...</td>\n",
       "      <td>...</td>\n",
       "      <td>...</td>\n",
       "      <td>...</td>\n",
       "      <td>...</td>\n",
       "      <td>...</td>\n",
       "      <td>...</td>\n",
       "      <td>...</td>\n",
       "    </tr>\n",
       "    <tr>\n",
       "      <th>545</th>\n",
       "      <td>verkhnyaya inta</td>\n",
       "      <td>100</td>\n",
       "      <td>RU</td>\n",
       "      <td>1582990613</td>\n",
       "      <td>73</td>\n",
       "      <td>65.98</td>\n",
       "      <td>60.31</td>\n",
       "      <td>22.41</td>\n",
       "      <td>22.50</td>\n",
       "    </tr>\n",
       "    <tr>\n",
       "      <th>546</th>\n",
       "      <td>naze</td>\n",
       "      <td>75</td>\n",
       "      <td>JP</td>\n",
       "      <td>1582990613</td>\n",
       "      <td>93</td>\n",
       "      <td>28.37</td>\n",
       "      <td>129.48</td>\n",
       "      <td>66.20</td>\n",
       "      <td>5.82</td>\n",
       "    </tr>\n",
       "    <tr>\n",
       "      <th>547</th>\n",
       "      <td>teguise</td>\n",
       "      <td>20</td>\n",
       "      <td>ES</td>\n",
       "      <td>1582990613</td>\n",
       "      <td>53</td>\n",
       "      <td>29.06</td>\n",
       "      <td>-13.56</td>\n",
       "      <td>73.40</td>\n",
       "      <td>12.75</td>\n",
       "    </tr>\n",
       "    <tr>\n",
       "      <th>548</th>\n",
       "      <td>masterton</td>\n",
       "      <td>0</td>\n",
       "      <td>NZ</td>\n",
       "      <td>1582990613</td>\n",
       "      <td>84</td>\n",
       "      <td>-40.96</td>\n",
       "      <td>175.66</td>\n",
       "      <td>54.00</td>\n",
       "      <td>2.37</td>\n",
       "    </tr>\n",
       "    <tr>\n",
       "      <th>549</th>\n",
       "      <td>tanout</td>\n",
       "      <td>100</td>\n",
       "      <td>NE</td>\n",
       "      <td>1582990613</td>\n",
       "      <td>6</td>\n",
       "      <td>14.97</td>\n",
       "      <td>8.89</td>\n",
       "      <td>93.61</td>\n",
       "      <td>12.82</td>\n",
       "    </tr>\n",
       "  </tbody>\n",
       "</table>\n",
       "<p>550 rows × 9 columns</p>\n",
       "</div>"
      ],
      "text/plain": [
       "                city  Cloudiness Country        Date  Humidity  Latitude  \\\n",
       "0             albany          75      US  1582990460        53     42.60   \n",
       "1        varzelandia          97      BR  1582990479        70    -15.70   \n",
       "2              pisco          75      PE  1582990534        30    -13.70   \n",
       "3             kodiak          90      US  1582990534        79     57.79   \n",
       "4          bathsheba          75      BB  1582990534        61     13.22   \n",
       "..               ...         ...     ...         ...       ...       ...   \n",
       "545  verkhnyaya inta         100      RU  1582990613        73     65.98   \n",
       "546             naze          75      JP  1582990613        93     28.37   \n",
       "547          teguise          20      ES  1582990613        53     29.06   \n",
       "548        masterton           0      NZ  1582990613        84    -40.96   \n",
       "549           tanout         100      NE  1582990613         6     14.97   \n",
       "\n",
       "     Longitude  Max Temp  Wind Speed  \n",
       "0       -73.97     28.99       13.87  \n",
       "1       -44.03     80.83        6.98  \n",
       "2       -76.22     71.60        4.70  \n",
       "3      -152.41     21.20        5.82  \n",
       "4       -59.52     80.60       14.99  \n",
       "..         ...       ...         ...  \n",
       "545      60.31     22.41       22.50  \n",
       "546     129.48     66.20        5.82  \n",
       "547     -13.56     73.40       12.75  \n",
       "548     175.66     54.00        2.37  \n",
       "549       8.89     93.61       12.82  \n",
       "\n",
       "[550 rows x 9 columns]"
      ]
     },
     "execution_count": 5,
     "metadata": {},
     "output_type": "execute_result"
    }
   ],
   "source": [
    "city_data_df = pd.DataFrame(city_data)\n",
    "city_data_df.to_csv(output_data_file)\n",
    "city_data_df"
   ]
  },
  {
   "cell_type": "code",
   "execution_count": 6,
   "metadata": {},
   "outputs": [],
   "source": [
    "city_data_df = pd.read_csv(output_data_file)"
   ]
  },
  {
   "cell_type": "markdown",
   "metadata": {},
   "source": [
    "### Plotting the Data\n",
    "* Use proper labeling of the plots using plot titles (including date of analysis) and axes labels.\n",
    "* Save the plotted figures as .pngs."
   ]
  },
  {
   "cell_type": "markdown",
   "metadata": {},
   "source": [
    "#### Latitude vs. Temperature Plot"
   ]
  },
  {
   "cell_type": "code",
   "execution_count": 7,
   "metadata": {},
   "outputs": [
    {
     "data": {
      "text/plain": [
       "Text(0.5, 1.0, 'City Latitude vs. Max Temp')"
      ]
     },
     "execution_count": 7,
     "metadata": {},
     "output_type": "execute_result"
    },
    {
     "data": {
      "image/png": "[encoded data removed]",
      "text/plain": [
       "<Figure size 432x288 with 1 Axes>"
      ]
     },
     "metadata": {
      "needs_background": "light"
     },
     "output_type": "display_data"
    }
   ],
   "source": [
    "lat_plot = city_data_df[\"Latitude\"]\n",
    "temp = city_data_df[\"Max Temp\"]\n",
    "\n",
    "\n",
    "plt.scatter(lat_plot, temp, marker = \"o\", facecolors = \"blue\", edgecolors = \"black\")\n",
    "plt.xlabel(\"Latitude\")\n",
    "plt.ylabel(\"Max Temp(F)\")\n",
    "plt.title(\"City Latitude vs. Max Temp\")"
   ]
  },
  {
   "cell_type": "markdown",
   "metadata": {},
   "source": [
    "#### Latitude vs. Humidity Plot"
   ]
  },
  {
   "cell_type": "code",
   "execution_count": 8,
   "metadata": {},
   "outputs": [
    {
     "data": {
      "text/plain": [
       "Text(0.5, 1.0, 'City Latitude vs. Humidity')"
      ]
     },
     "execution_count": 8,
     "metadata": {},
     "output_type": "execute_result"
    },
    {
     "data": {
      "image/png": "[encoded data removed]",
      "text/plain": [
       "<Figure size 432x288 with 1 Axes>"
      ]
     },
     "metadata": {
      "needs_background": "light"
     },
     "output_type": "display_data"
    }
   ],
   "source": [
    "lat_plot = city_data_df[\"Latitude\"]\n",
    "humidity_plot = city_data_df[\"Humidity\"]\n",
    "\n",
    "plt.scatter(lat_plot, humidity_plot, marker = \"o\", facecolors = \"blue\", edgecolors = \"black\")\n",
    "plt.xlabel(\"Latitude\")\n",
    "plt.ylabel(\"Humifity\")\n",
    "plt.title(\"City Latitude vs. Humidity\")"
   ]
  },
  {
   "cell_type": "markdown",
   "metadata": {},
   "source": [
    "#### Latitude vs. Cloudiness Plot"
   ]
  },
  {
   "cell_type": "code",
   "execution_count": 9,
   "metadata": {},
   "outputs": [
    {
     "data": {
      "text/plain": [
       "Text(0.5, 1.0, 'City Latitude vs. Cloudiness')"
      ]
     },
     "execution_count": 9,
     "metadata": {},
     "output_type": "execute_result"
    },
    {
     "data": {
      "image/png": "[encoded data removed]",
      "text/plain": [
       "<Figure size 432x288 with 1 Axes>"
      ]
     },
     "metadata": {
      "needs_background": "light"
     },
     "output_type": "display_data"
    }
   ],
   "source": [
    "lat_plot = city_data_df[\"Latitude\"]\n",
    "cloudiness_plot = city_data_df[\"Cloudiness\"]\n",
    "\n",
    "plt.scatter(lat_plot, cloudiness_plot, marker = \"o\", facecolors = \"blue\", edgecolors = \"black\")\n",
    "plt.xlabel(\"Latitude\")\n",
    "plt.ylabel(\"Cloudiness\")\n",
    "plt.title(\"City Latitude vs. Cloudiness\")"
   ]
  },
  {
   "cell_type": "markdown",
   "metadata": {},
   "source": [
    "#### Latitude vs. Wind Speed Plot"
   ]
  },
  {
   "cell_type": "code",
   "execution_count": 10,
   "metadata": {},
   "outputs": [
    {
     "data": {
      "text/plain": [
       "Text(0.5, 1.0, 'City Latitude vs. Wind Speed')"
      ]
     },
     "execution_count": 10,
     "metadata": {},
     "output_type": "execute_result"
    },
    {
     "data": {
      "image/png": "[encoded data removed]",
      "text/plain": [
       "<Figure size 432x288 with 1 Axes>"
      ]
     },
     "metadata": {
      "needs_background": "light"
     },
     "output_type": "display_data"
    }
   ],
   "source": [
    "lat_plot = city_data_df[\"Latitude\"]\n",
    "wind_speed_plot = city_data_df[\"Wind Speed\"]\n",
    "\n",
    "plt.scatter(lat_plot, wind_speed_plot, marker = \"o\", facecolors = \"blue\", edgecolors = \"black\")\n",
    "plt.xlabel(\"Latitude\")\n",
    "plt.ylabel(\"Wind Speed\")\n",
    "plt.title(\"City Latitude vs. Wind Speed\")"
   ]
  },
  {
   "cell_type": "markdown",
   "metadata": {},
   "source": [
    "## Linear Regression"
   ]
  },
  {
   "cell_type": "code",
   "execution_count": 11,
   "metadata": {},
   "outputs": [],
   "source": [
    "# OPTIONAL: Create a function to create Linear Regression plots\n"
   ]
  },
  {
   "cell_type": "code",
   "execution_count": 12,
   "metadata": {},
   "outputs": [],
   "source": [
    "# Create Northern and Southern Hemisphere DataFrames\n",
    "northern_df = city_data_df.loc[(city_data_df[\"Latitude\"]>= 0)]\n",
    "southern_df = city_data_df.loc[(city_data_df[\"Latitude\"]< 0)]"
   ]
  },
  {
   "cell_type": "code",
   "execution_count": 13,
   "metadata": {},
   "outputs": [],
   "source": [
    "def plot_linear_regression(x_values, y_values, title, text_coordinates):\n",
    "    # Run regresson on hemisphere\n",
    "    (slope, intercept, rvalue, pvalue, stderr) = linregress(x_values, y_values)\n",
    "    regress_values = x_values * slope + intercept\n",
    "    line_eq = \"y = \" + str(round(slope,2)) + \"x + \" + str(round(intercept,2))\n",
    "    # Plot\n",
    "    plt.scatter(x_values,y_values)\n",
    "    plt.plot(x_values,regress_values,\"r-\")\n",
    "    plt.annotate(line_eq,text_coordinates,fontsize=15,color=\"red\")\n",
    "    plt.xlabel('Latitude')\n",
    "    plt.ylabel(title)\n",
    "    print(f\"The r-squared is: {rvalue}\")\n",
    "    plt.show()"
   ]
  },
  {
   "cell_type": "markdown",
   "metadata": {},
   "source": [
    "####  Northern Hemisphere - Max Temp vs. Latitude Linear Regression"
   ]
  },
  {
   "cell_type": "code",
   "execution_count": 25,
   "metadata": {},
   "outputs": [
    {
     "name": "stdout",
     "output_type": "stream",
     "text": [
      "The r-squared is: -0.8997731345096085\n"
     ]
    },
    {
     "data": {
      "image/png": "[encoded data removed]",
      "text/plain": [
       "<Figure size 432x288 with 1 Axes>"
      ]
     },
     "metadata": {
      "needs_background": "light"
     },
     "output_type": "display_data"
    }
   ],
   "source": [
    "max_temp2= northern_df[\"Max Temp\"]\n",
    "north_lat = northern_df[\"Latitude\"]\n",
    "\n",
    "plot_linear_regression(north_lat, max_temp2, 'Max Temp', (0,-20))\n"
   ]
  },
  {
   "cell_type": "markdown",
   "metadata": {},
   "source": [
    "####  Southern Hemisphere - Max Temp vs. Latitude Linear Regression"
   ]
  },
  {
   "cell_type": "code",
   "execution_count": 24,
   "metadata": {},
   "outputs": [
    {
     "name": "stdout",
     "output_type": "stream",
     "text": [
      "The r-squared is: 0.5210489871232015\n"
     ]
    },
    {
     "data": {
      "image/png": "[encoded data removed]",
      "text/plain": [
       "<Figure size 432x288 with 1 Axes>"
      ]
     },
     "metadata": {
      "needs_background": "light"
     },
     "output_type": "display_data"
    }
   ],
   "source": [
    "max_temp3= southern_df[\"Max Temp\"]\n",
    "south_lat = southern_df[\"Latitude\"]\n",
    "\n",
    "plot_linear_regression(south_lat, max_temp3, 'Max Temp', (-35,50))"
   ]
  },
  {
   "cell_type": "markdown",
   "metadata": {},
   "source": [
    "####  Northern Hemisphere - Humidity (%) vs. Latitude Linear Regression"
   ]
  },
  {
   "cell_type": "code",
   "execution_count": 16,
   "metadata": {},
   "outputs": [
    {
     "name": "stdout",
     "output_type": "stream",
     "text": [
      "The r-squared is: 0.420737123752385\n"
     ]
    },
    {
     "data": {
      "image/png": "[encoded data removed]",
      "text/plain": [
       "<Figure size 432x288 with 1 Axes>"
      ]
     },
     "metadata": {
      "needs_background": "light"
     },
     "output_type": "display_data"
    }
   ],
   "source": [
    "humidity2 = northern_df[\"Humidity\"]\n",
    "north_lat = northern_df[\"Latitude\"]\n",
    "\n",
    "plot_linear_regression(north_lat, humidity2, 'Humidity', (40,10))"
   ]
  },
  {
   "cell_type": "markdown",
   "metadata": {},
   "source": [
    "####  Northern Hemisphere - Cloudiness (%) vs. Latitude Linear Regression"
   ]
  },
  {
   "cell_type": "code",
   "execution_count": 17,
   "metadata": {},
   "outputs": [
    {
     "name": "stdout",
     "output_type": "stream",
     "text": [
      "The r-squared is: 0.1968967883758037\n"
     ]
    },
    {
     "data": {
      "image/png": "[encoded data removed]",
      "text/plain": [
       "<Figure size 432x288 with 1 Axes>"
      ]
     },
     "metadata": {
      "needs_background": "light"
     },
     "output_type": "display_data"
    }
   ],
   "source": [
    "cloudiness2= northern_df[\"Cloudiness\"]\n",
    "north_lat = northern_df[\"Latitude\"]\n",
    "\n",
    "plot_linear_regression(north_lat, cloudiness2, 'Cloudiness', (40,10))"
   ]
  },
  {
   "cell_type": "markdown",
   "metadata": {},
   "source": [
    "####  Southern Hemisphere - Cloudiness (%) vs. Latitude Linear Regression"
   ]
  },
  {
   "cell_type": "code",
   "execution_count": 23,
   "metadata": {},
   "outputs": [
    {
     "name": "stdout",
     "output_type": "stream",
     "text": [
      "The r-squared is: 0.4345257934282323\n"
     ]
    },
    {
     "data": {
      "image/png": "[encoded data removed]",
      "text/plain": [
       "<Figure size 432x288 with 1 Axes>"
      ]
     },
     "metadata": {
      "needs_background": "light"
     },
     "output_type": "display_data"
    }
   ],
   "source": [
    "cloudiness3= southern_df[\"Cloudiness\"]\n",
    "south_lat = southern_df[\"Latitude\"]\n",
    "\n",
    "plot_linear_regression(south_lat, cloudiness3, 'Cloudiness', (-50,10))"
   ]
  },
  {
   "cell_type": "markdown",
   "metadata": {},
   "source": [
    "####  Northern Hemisphere - Wind Speed (mph) vs. Latitude Linear Regression"
   ]
  },
  {
   "cell_type": "code",
   "execution_count": 21,
   "metadata": {},
   "outputs": [
    {
     "name": "stdout",
     "output_type": "stream",
     "text": [
      "The r-squared is: 0.10540567563032283\n"
     ]
    },
    {
     "data": {
      "image/png": "[encoded data removed]",
      "text/plain": [
       "<Figure size 432x288 with 1 Axes>"
      ]
     },
     "metadata": {
      "needs_background": "light"
     },
     "output_type": "display_data"
    }
   ],
   "source": [
    "wind_speed2= northern_df[\"Wind Speed\"]\n",
    "north_lat = northern_df[\"Latitude\"]\n",
    "\n",
    "plot_linear_regression(north_lat, wind_speed2, 'Wind Speed', (10,50))"
   ]
  },
  {
   "cell_type": "markdown",
   "metadata": {},
   "source": [
    "####  Southern Hemisphere - Wind Speed (mph) vs. Latitude Linear Regression"
   ]
  },
  {
   "cell_type": "code",
   "execution_count": 22,
   "metadata": {
    "scrolled": true
   },
   "outputs": [
    {
     "name": "stdout",
     "output_type": "stream",
     "text": [
      "The r-squared is: -0.203514293656047\n"
     ]
    },
    {
     "data": {
      "image/png": "[encoded data removed]",
      "text/plain": [
       "<Figure size 432x288 with 1 Axes>"
      ]
     },
     "metadata": {
      "needs_background": "light"
     },
     "output_type": "display_data"
    }
   ],
   "source": [
    "wind_speed3 = southern_df[\"Wind Speed\"]\n",
    "south_lat = southern_df[\"Latitude\"]\n",
    "\n",
    "plot_linear_regression(south_lat, wind_speed3, \"Wind Speed\", (-30,27))"
   ]
  }
 ],
 "metadata": {
  "anaconda-cloud": {},
  "kernel_info": {
   "name": "python3"
  },
  "kernelspec": {
   "display_name": "Python 3",
   "language": "python",
   "name": "python3"
  },
  "language_info": {
   "codemirror_mode": {
    "name": "ipython",
    "version": 3
   },
   "file_extension": ".py",
   "mimetype": "text/x-python",
   "name": "python",
   "nbconvert_exporter": "python",
   "pygments_lexer": "ipython3",
   "version": "3.7.6"
  },
  "latex_envs": {
   "LaTeX_envs_menu_present": true,
   "autoclose": false,
   "autocomplete": true,
   "bibliofile": "biblio.bib",
   "cite_by": "apalike",
   "current_citInitial": 1,
   "eqLabelWithNumbers": true,
   "eqNumInitial": 1,
   "hotkeys": {
    "equation": "Ctrl-E",
    "itemize": "Ctrl-I"
   },
   "labels_anchors": false,
   "latex_user_defs": false,
   "report_style_numbering": false,
   "user_envs_cfg": false
  },
  "nteract": {
   "version": "0.12.3"
  }
 },
 "nbformat": 4,
 "nbformat_minor": 2
}
